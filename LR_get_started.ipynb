{
 "cells": [
  {
   "cell_type": "code",
   "execution_count": 2,
   "id": "2bc56a95-7daa-4db0-be84-0d3dfc846300",
   "metadata": {},
   "outputs": [],
   "source": [
    "from discopy import Ty, Box, Id, Swap"
   ]
  },
  {
   "cell_type": "code",
   "execution_count": 3,
   "id": "4929aa4f-eec4-478c-afd0-0074d6310158",
   "metadata": {},
   "outputs": [],
   "source": [
    "BAU, team, blueprint = Ty('BAU'), Ty('team'), Ty('blueprint')\n",
    "mobilise = Box('mobilise', BAU, team @ blueprint)\n",
    "merge = lambda x: Box('merge', x @ x, x)"
   ]
  },
  {
   "cell_type": "code",
   "execution_count": 9,
   "id": "280ef2d5-8b03-477c-85c5-bb4dbde1e822",
   "metadata": {},
   "outputs": [],
   "source": [
    "mobilise_2_projects = mobilise @ mobilise\\\n",
    "    >> Id(team) @ Swap(blueprint, team) @ Id(blueprint)\\\n",
    "    >> merge(team) @ merge(blueprint)"
   ]
  },
  {
   "cell_type": "code",
   "execution_count": 10,
   "id": "4038e9f6-e99c-4e72-9142-408e3a5fc4b0",
   "metadata": {},
   "outputs": [],
   "source": [
    "crack_two_eggs.draw(path='docs/_static/imgs/mobilise_2_projects.png')"
   ]
  },
  {
   "cell_type": "markdown",
   "id": "76936838-8374-4749-a228-808d16449dde",
   "metadata": {},
   "source": [
    "![crack two eggs](https://raw.githubusercontent.com/lawrencerowland/discopy/main/docs/_static/imgs/mobilise_2_projects.png)"
   ]
  },
  {
   "cell_type": "code",
   "execution_count": null,
   "id": "65c25fd6-9903-496e-a23d-c76c6f13b837",
   "metadata": {},
   "outputs": [],
   "source": []
  }
 ],
 "metadata": {
  "kernelspec": {
   "display_name": "Python 3 (ipykernel)",
   "language": "python",
   "name": "python3"
  },
  "language_info": {
   "codemirror_mode": {
    "name": "ipython",
    "version": 3
   },
   "file_extension": ".py",
   "mimetype": "text/x-python",
   "name": "python",
   "nbconvert_exporter": "python",
   "pygments_lexer": "ipython3",
   "version": "3.9.7"
  }
 },
 "nbformat": 4,
 "nbformat_minor": 5
}
